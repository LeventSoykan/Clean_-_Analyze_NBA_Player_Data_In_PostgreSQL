{
 "cells": [
  {
   "cell_type": "markdown",
   "metadata": {},
   "source": [
    "### TODO\n",
    "\n",
    "* Glossary - https://www.basketball-reference.com/about/glossary.html\n",
    "\n",
    "* Scoring and min played with age\n",
    "* Select a player and analyze performance over time\n",
    "* Find the best offensive and defensive teams for 5 year period\n",
    "* Find best university to be good guard\n",
    "* Find the best scorer, rebounder on career average\n",
    "* Height weight averages for positions"
   ]
  },
  {
   "cell_type": "code",
   "execution_count": null,
   "metadata": {},
   "outputs": [],
   "source": []
  }
 ],
 "metadata": {
  "kernelspec": {
   "display_name": "Python 3",
   "language": "python",
   "name": "python3"
  },
  "language_info": {
   "codemirror_mode": {
    "name": "ipython",
    "version": 3
   },
   "file_extension": ".py",
   "mimetype": "text/x-python",
   "name": "python",
   "nbconvert_exporter": "python",
   "pygments_lexer": "ipython3",
   "version": "3.8.2"
  }
 },
 "nbformat": 4,
 "nbformat_minor": 4
}
